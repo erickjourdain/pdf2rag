{
 "cells": [
  {
   "cell_type": "code",
   "execution_count": 28,
   "id": "9448a937",
   "metadata": {},
   "outputs": [],
   "source": [
    "from docling.document_converter import DocumentConverter, ConversionResult, PageRange, PdfFormatOption, DEFAULT_PAGE_RANGE\n",
    "from docling.datamodel.base_models import InputFormat\n",
    "from docling.datamodel.pipeline_options import (\n",
    "    PdfPipelineOptions,\n",
    "    TesseractCliOcrOptions,\n",
    ")\n",
    "\n",
    "# Convert a PDF document using docling converter\n",
    "def pdfConversion(source: str, page_range: PageRange = DEFAULT_PAGE_RANGE, ocr: bool = False ) -> ConversionResult:\n",
    "    \"\"\"\n",
    "    Convert a PDF document to Markdown format.\n",
    "    \"\"\"\n",
    "    if ocr:\n",
    "        pipeline_options = PdfPipelineOptions()\n",
    "        pipeline_options.do_ocr=True\n",
    "        pipeline_options.ocr_options=TesseractCliOcrOptions(force_full_page_ocr=True)\n",
    "        #pipeline_options.do_table_structure=True\n",
    "        #pipeline_options.table_structure_options.do_cell_matching=True\n",
    "        converter = DocumentConverter(\n",
    "            format_options={\n",
    "                InputFormat.PDF: PdfFormatOption(\n",
    "                    pipeline_options=pipeline_options,\n",
    "                )\n",
    "            }\n",
    "        )    \n",
    "    else:\n",
    "        converter = DocumentConverter()\n",
    "\n",
    "    return converter.convert(source = source, page_range=page_range)\n"
   ]
  },
  {
   "cell_type": "code",
   "execution_count": 20,
   "id": "96564cc6",
   "metadata": {},
   "outputs": [
    {
     "name": "stdout",
     "output_type": "stream",
     "text": [
      "## WATTELEZ\n",
      "\n",
      "## La Solution Protection\n",
      "\n",
      "25 rue CHARLES EDOUARD JEANNERET TECHNOPARC\n",
      "\n",
      "email\n",
      "\n",
      "Tél.\n",
      "\n",
      "Fax\n",
      "\n",
      "78300\n",
      "\n",
      "POISSY\n",
      "\n",
      "contact@wattelez.com\n",
      "\n",
      "+33 (0)1.30.74.02.07\n",
      "\n",
      "Livré à\n",
      "\n",
      "Delivered to\n",
      "\n",
      "78300 POISSY TECHNOPARC 25 rue CHARLES EDOUARD JEANNERET\n",
      "\n",
      "FRANCE\n",
      "\n",
      "WATTELEZ\n",
      "\n",
      "Discover all our products on : Découvrez tous nos produits sur :\n",
      "\n",
      "www.wattelez.com\n",
      "\n",
      "L N E\n",
      "\n",
      "1 RUE GASTON BOISSIER\n",
      "\n",
      "## Commande\n",
      "\n",
      "tél. 01 40 43 37 00\n",
      "\n",
      "fax.\n",
      "\n",
      "TVA Intracom :\n",
      "\n",
      "Page\n",
      "\n",
      "75724\n",
      "\n",
      "PARIS\n",
      "\n",
      "FRANCE\n",
      "\n",
      "01 40 43 37 37\n",
      "\n",
      "FR92313320244\n",
      "\n",
      "1\n",
      "\n",
      "| Date Date   |   Document number Numéro pièce | Supplier Fournisseur   | Our reference Notre référence   | Buyer Acheteur   | Délai Requested date   |\n",
      "|-------------|--------------------------------|------------------------|---------------------------------|------------------|------------------------|\n",
      "| 22/04/2021  |                        2180348 | F0002456               |                                 |                  | 03/05/2021             |\n",
      "\n",
      "| Supplier Ref Fournisseur Référence                    | Description Désignation                               | Our Ref Référence               | Wattelez                                              | Quantity Quantité               | Unité unit                      | Unit price PU HT                | Net price PU net HT             | Amount ex. VAT Montant HT       | T V A                           |                                 |\n",
      "|-------------------------------------------------------|-------------------------------------------------------|---------------------------------|-------------------------------------------------------|---------------------------------|---------------------------------|---------------------------------|---------------------------------|---------------------------------|---------------------------------|---------------------------------|\n",
      "|                                                       | REACTION AU FEU - SEBS                                | 38200023                        | 1,000                                                 | P                               |                                 | 670,000                         | 670,000                         | 670,00                          | 1                               |                                 |\n",
      "| Essais au classement M complets                       | Essais au classement M complets                       | Essais au classement M complets | Essais au classement M complets                       | Essais au classement M complets | Essais au classement M complets | Essais au classement M complets | Essais au classement M complets | Essais au classement M complets | Essais au classement M complets | Essais au classement M complets |\n",
      "| Total value Total HT                                  | Eco-contribution Eco-contribution                     | VAT base Base TVA               | Rate Taux                                             | VAT amount Montant TVA          |                                 |                                 | Total TOTAL                     | invoice T.T.C.                  |                                 |                                 |\n",
      "| 670,00 1 4                                            | 670,00 1 4                                            | 670,00                          | 20,00                                                 | 134,00                          |                                 | Total Acompte versé             | *****                           |                                 | 804,00                          |                                 |\n",
      "| / Freight costs / Posting FRAIS DE TRANSPORT LA POSTE | / Freight costs / Posting FRAIS DE TRANSPORT LA POSTE | 6 5                             | / Freight costs / Posting FRAIS DE TRANSPORT LA POSTE |                                 | Net à                           | payer                           | *****                           | 804,00 EUR                      |                                 |                                 |\n",
      "\n",
      "SAS Capital de 180036 €\n",
      "\n",
      "TVA Intra FR 92785110008\n",
      "\n",
      "NAF\n",
      "\n",
      "2219Z\n"
     ]
    }
   ],
   "source": [
    "source = '/Users/erickjourdain/Programmation/Python/LAIA API/examples/Commande officielle_1199783.pdf'\n",
    "result = pdfConversion(source)\n",
    "print(result.document.export_to_markdown())"
   ]
  },
  {
   "cell_type": "code",
   "execution_count": null,
   "id": "561831b0",
   "metadata": {},
   "outputs": [
    {
     "name": "stderr",
     "output_type": "stream",
     "text": [
      "Parameter `strict_text` has been deprecated and will be ignored.\n"
     ]
    },
    {
     "name": "stdout",
     "output_type": "stream",
     "text": [
      "|                                                       |                                                                                                             |                          |                                                           | 21-27                                                                     |                                                                         |                                                              | y x            |      |             |          |                     |\n",
      "|-------------------------------------------------------|-------------------------------------------------------------------------------------------------------------|--------------------------|-----------------------------------------------------------|---------------------------------------------------------------------------|-------------------------------------------------------------------------|--------------------------------------------------------------|----------------|------|-------------|----------|---------------------|\n",
      "|                                                       |                                                                                                             |                          | DESTINATAIRE                                              | Lieu VERNET SAS ROUTE 91340 OLLAINVILLE                                   | S.A.S. au SIRET 308                                                     | BP.31 - 91291 Tél. 01 69 26 82                               | en             |      |             |          |                     |\n",
      "|                                                       |                                                                                                             |                          | REQUISITIONER                                             | de livraison D'ARPAJON                                                    | - capital de 1 844 700 € -R.C.S. 528 827 00022 - APE 2651 FR77308528827 | 21-27, route d'Arpajon OLLAINVILLE ARPAJON Cedex - 82 Fax 01 | Vernet         |      |             |          |                     |\n",
      "|                                                       | 615040                                                                                                      | CODE ARTICLE PART NUMBER | MARCHANDISES SHIP TO                                      | /Delivery place                                                           | Evry B 308 528 827 B - TVA/CEE N°                                       | FRANCE 60 83 03 03                                           |                |      |             |          | 624400              |\n",
      "|                                                       |                                                                                                             | PLAN INDICE Drawing Mark | DEPÓT / WAREHOUSE /                                       | RECEPTION DE 8h05                                                         |                                                                         |                                                              |                |      |             |          |                     |\n",
      "| TOTAL Suivant devis n° | DEV2103866- V1 du 25/03/2021 | ENTRETIEN MAT METROLOGIE Etalonnage d'un capteur de déplacement Erreur indication en 11 pts syr 2 cycles de | DESIGNATION DESCRIPTION  | EMPLACEMENT CONTACT FOURNISSEUR LOCATION SUPPLIER CONTACT | DES MARCHANDISES SANS INTERRUPTION A 17h15, SAUF VENDREDI DE 8h05 A 16h15 | . MESSAGE :                                                             | CODE CUSTOMER                                                | MAN O RD a     |      |             |          | TRANSPT/EMBALLAG/OA |\n",
      "| HORS-TAXE:                                            | mesure                                                                                                      |                          |                                                           | 1 RUE 75015                                                               | A.RESENDE                                                               | ACHETEUR CODE                                                | Date: 30/03/21 |      |             |          |                     |\n",
      "|                                                       |                                                                                                             | UNIT                     | REGLEMENT TERMS                                           | LABORATOIRE GASTON PARIS                                                  | (NS                                                                     |                                                              |                |      |             |          |                     |\n",
      "| 232,00 EUR                                            | 180,00000                                                                                                   | ER PRICE                 |                                                           | Fournisseur NATIONAL BOISSIER                                             | 195694                                                                  | N° OA P.0. N°                                                | Référence à    |      |             |          | 52,00000            |\n",
      "|                                                       | 180,00 |                                                                                                    | TOTAL HT EXTENSION       | DER                                                       | /Supplier D'ESSAIS                                                        |                                                                         | CODE                                                         | rappeler       |      |             |          | 52,00 |             |\n",
      "|                                                       |                                                                                                             | demandée Due date        |                                                           |                                                                           |                                                                         |                                                              | Page           |      |             |          |                     |\n",
      "|                                                       |                                                                                                             |                          |                                                           |                                                                           |                                                                         | CODE                                                         |                |      |             |          |                     |\n",
      "|                                                       |                                                                                                             |                          |                                                           |                                                                           |                                                                         |                                                              | 1              |      |             |          |                     |\n",
      "|                                                       |                                                                                                             |                          | ORIGINE                                                   |                                                                           |                                                                         |                                                              |                |      |             |          |                     |\n",
      "|                                                       |                                                                                                             |                          |                                                           |                                                                           |                                                                         | 3329                                                         |                |      |             |          |                     |\n",
      "|                                                       |                                                                                                             |                          |                                                           |                                                                           |                                                                         |                                                              |                | Date |             |          |                     |\n",
      "|                                                       |                                                                                                             |                          |                                                           |                                                                           |                                                                         | SUPPLIER                                                     |                |      |             |          |                     |\n",
      "|                                                       |                                                                                                             |                          |                                                           |                                                                           |                                                                         |                                                              |                |      |             | 23/04/21 |                     |\n",
      "|                                                       |                                                                                                             |                          |                                                           |                                                                           |                                                                         |                                                              |                |      | FOURNISSEUR |          | 23/04/21            |\n"
     ]
    }
   ],
   "source": [
    "source = '/Users/erickjourdain/Programmation/Python/LAIA API/examples/Commande_1199785.pdf'\n",
    "result = pdfConversion(source, (1, 1), ocr=True)\n",
    "print(result.document.export_to_markdown())"
   ]
  }
 ],
 "metadata": {
  "kernelspec": {
   "display_name": "venv (3.10.4)",
   "language": "python",
   "name": "python3"
  },
  "language_info": {
   "codemirror_mode": {
    "name": "ipython",
    "version": 3
   },
   "file_extension": ".py",
   "mimetype": "text/x-python",
   "name": "python",
   "nbconvert_exporter": "python",
   "pygments_lexer": "ipython3",
   "version": "3.10.4"
  }
 },
 "nbformat": 4,
 "nbformat_minor": 5
}
